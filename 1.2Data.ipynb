{
 "cells": [
  {
   "cell_type": "markdown",
   "metadata": {},
   "source": [
    "# __Assistance with choosing a location where to move to__"
   ]
  },
  {
   "cell_type": "markdown",
   "metadata": {},
   "source": [
    "## __1.2. Data__"
   ]
  },
  {
   "cell_type": "markdown",
   "metadata": {},
   "source": [
    "### __1.2.1 Locations__"
   ]
  },
  {
   "cell_type": "markdown",
   "metadata": {},
   "source": [
    " I will start with collecting geo-locational information of 22 administrative areas and 57 city districts, which will help me with building choropleth map and later on with collecting other necessary informations. I have found a geojson file which has all of these coordinates on \"opendata.praha\".[2]"
   ]
  },
  {
   "cell_type": "markdown",
   "metadata": {},
   "source": [
    "### __1.2.2 Venues__"
   ]
  },
  {
   "cell_type": "markdown",
   "metadata": {},
   "source": [
    " For this task I've used Foursquare API to get a selection of venues in each city district based on previous geolocation data.[3]\n"
   ]
  },
  {
   "cell_type": "markdown",
   "metadata": {},
   "source": [
    "### __1.2.3 Rents and extras__"
   ]
  },
  {
   "cell_type": "markdown",
   "metadata": {},
   "source": [
    " To collect data about average rents in Prague I've found two separate web pages of several different real estate brokers businesses who were collaborating on these data sets.[4]\n",
    " And in this project I will work with information on public transport [5] and waste sorting [6] and theirs accessibility. "
   ]
  },
  {
   "cell_type": "markdown",
   "metadata": {},
   "source": [
    "\n",
    "### References:\n",
    "\n",
    "\n",
    "\n",
    "\n",
    "\n",
    "\n",
    "\n",
    "\n",
    "\n",
    "\n",
    "\n",
    "\n",
    "\n",
    "[2] http://opendata.praha.eu/dataset/ipr-mestske_casti\n",
    "[3] https://foursquare.com/\n",
    "[4] https://realitymix.centrum.cz/statistika-nemovitosti/byty-pronajem-prumerna-cena-pronajmu-1m2-mesic.html\n",
    "    http://www.cenovamapa.eu/\n",
    "[5] http://opendata.iprpraha.cz/CUR/DOP/DOP_PID_ZASTAVKY_B/WGS_84/DOP_PID_ZASTAVKY_B.json\n",
    "[6] http://opendata.iprpraha.cz/CUR/ZPK/ZPK_O_Kont_TOitem_b/S_JTSK/ZPK_O_Kont_TOitem_b.json\n",
    "\n",
    "\n",
    "\n",
    "\n"
   ]
  },
  {
   "cell_type": "code",
   "execution_count": null,
   "metadata": {},
   "outputs": [],
   "source": []
  }
 ],
 "metadata": {
  "kernelspec": {
   "display_name": "Python 3",
   "language": "python",
   "name": "python3"
  },
  "language_info": {
   "codemirror_mode": {
    "name": "ipython",
    "version": 3
   },
   "file_extension": ".py",
   "mimetype": "text/x-python",
   "name": "python",
   "nbconvert_exporter": "python",
   "pygments_lexer": "ipython3",
   "version": "3.6.8"
  }
 },
 "nbformat": 4,
 "nbformat_minor": 2
}
