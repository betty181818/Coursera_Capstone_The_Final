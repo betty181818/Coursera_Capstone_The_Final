{
 "cells": [
  {
   "cell_type": "markdown",
   "metadata": {},
   "source": [
    "# __Assistance with choosing a location where to move to__"
   ]
  },
  {
   "cell_type": "markdown",
   "metadata": {},
   "source": [
    "## __1.1. Introduction__"
   ]
  },
  {
   "cell_type": "markdown",
   "metadata": {},
   "source": [
    "### __1.1.1 Main reason behind this project__"
   ]
  },
  {
   "cell_type": "markdown",
   "metadata": {},
   "source": [
    " I've spent past year living in Warsaw, Poland and in a couple of months I'll be moving to Prague, Czech Republic both because of a work. So I'm using this opportunity and making a project that will help me with picking up the right location where to move to. But I will make it so that it will also be useful for other people who would consider moving to Prague.\n",
    "  There are many things to consider when you are relocating yourself. But basically it all leads to finding an area where real estate renting values are acceptable and at the same time you can find there all  the right venues and easily accessible public transport."
   ]
  },
  {
   "cell_type": "markdown",
   "metadata": {},
   "source": [
    "### __1.1.2 Prague - The Basics__"
   ]
  },
  {
   "cell_type": "markdown",
   "metadata": {},
   "source": [
    " Situated on the Vltava River, Prague is the capital and the largest city of the Czech Republic. It is fourteenth largest city in the European Union and home to about 1.3 million people, but its larger urban zone has approximately a population of nearly 2 million. The surface area of Prague is 496 square kilometres. There are 22 administrative areas, 57 city districts and 112 cadastral territories. [1]\n",
    "Distances: Berlin 350 km, Vienna 330 km, Budapest 530 km, Krakow 540 km"
   ]
  },
  {
   "cell_type": "markdown",
   "metadata": {},
   "source": [
    "### References:\n",
    "[1] https://www.welcometoprague.eu/basic-information-about-prague\n"
   ]
  },
  {
   "cell_type": "code",
   "execution_count": null,
   "metadata": {},
   "outputs": [],
   "source": []
  }
 ],
 "metadata": {
  "kernelspec": {
   "display_name": "Python 3",
   "language": "python",
   "name": "python3"
  },
  "language_info": {
   "codemirror_mode": {
    "name": "ipython",
    "version": 3
   },
   "file_extension": ".py",
   "mimetype": "text/x-python",
   "name": "python",
   "nbconvert_exporter": "python",
   "pygments_lexer": "ipython3",
   "version": "3.6.8"
  }
 },
 "nbformat": 4,
 "nbformat_minor": 2
}
